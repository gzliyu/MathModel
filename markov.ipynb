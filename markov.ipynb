{
 "nbformat": 4,
 "nbformat_minor": 2,
 "metadata": {
  "language_info": {
   "name": "python",
   "codemirror_mode": {
    "name": "ipython",
    "version": 3
   },
   "version": "3.7.3-final"
  },
  "orig_nbformat": 2,
  "file_extension": ".py",
  "mimetype": "text/x-python",
  "name": "python",
  "npconvert_exporter": "python",
  "pygments_lexer": "ipython3",
  "version": 3,
  "kernelspec": {
   "name": "python37364bitbaseconda7f2e7d022f504b5e8f3aa0423ecdfb71",
   "display_name": "Python 3.7.3 64-bit ('base': conda)"
  }
 },
 "cells": [
  {
   "cell_type": "code",
   "execution_count": null,
   "metadata": {},
   "outputs": [],
   "source": [
    "import numpy as np"
   ]
  },
  {
   "cell_type": "code",
   "execution_count": null,
   "metadata": {},
   "outputs": [],
   "source": [
    "maxNum = 10\n",
    "x0=np.mat([850,353,400,324,170,200,190,76,130,78,178,510,90,214,26,30,20,87,8,8])\n",
    "def generate(x0):\n",
    "    tot=0\n",
    "    for i in range(maxNum):\n",
    "        tot+=x0[0,i+maxNum]\n",
    "    gamma=[]\n",
    "    for i in range(maxNum):\n",
    "        gamma.append(x0[0,i+maxNum]/tot)\n",
    "\n",
    "    birR = [1.0121,1.0136,1.0206,1.0161,1.0140,1.0141,1.0193,1.0113,1.0082,1.0097]\n",
    "    birR.extend([0]*maxNum)\n",
    "    deaR = [0.0071,0.0086,0.0078,0.0058,0.0141,0.0067,0.0057,0.0082,0.0094,0.0093]\n",
    "    deaR.extend([0]*maxNum)\n",
    "    birR=np.array(birR)\n",
    "    deaR=np.array(deaR)\n",
    "    altha=np.diag(birR-deaR)\n",
    "\n",
    "    for i in range(maxNum):\n",
    "        altha[i,i+maxNum]=0.0033\n",
    "        altha[i+maxNum,i+maxNum]=0.0193\n",
    "        altha[i+maxNum,i]=gamma[i]\n",
    "\n",
    "    x0=x0*altha\n",
    "    return x0\n",
    "\n",
    "for i in range(4):\n",
    "    x0=generate(x0)\n",
    "    \n",
    "for i in range(maxNum):\n",
    "    print(x0[0,i],x0[0,i+maxNum])\n"
   ]
  },
  {
   "cell_type": "code",
   "execution_count": null,
   "metadata": {},
   "outputs": [],
   "source": []
  }
 ]
}